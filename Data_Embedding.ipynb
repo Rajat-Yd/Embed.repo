{
  "nbformat": 4,
  "nbformat_minor": 0,
  "metadata": {
    "colab": {
      "private_outputs": true,
      "provenance": [],
      "gpuType": "T4",
      "authorship_tag": "ABX9TyMC8t3+lTHU97JybmTcy7he"
    },
    "kernelspec": {
      "name": "python3",
      "display_name": "Python 3"
    },
    "language_info": {
      "name": "python"
    },
    "accelerator": "GPU"
  },
  "cells": [
    {
      "cell_type": "code",
      "execution_count": null,
      "metadata": {
        "id": "gnh_lxtB5Ljr"
      },
      "outputs": [],
      "source": [
        "!pip install transformers sentencepiece"
      ]
    },
    {
      "cell_type": "code",
      "source": [
        "import torch\n",
        "from transformers import AutoTokenizer, AutoModel\n",
        "tokenizer = AutoTokenizer.from_pretrained(\"cointegrated/rubert-tiny2\")\n",
        "model = AutoModel.from_pretrained(\"cointegrated/rubert-tiny2\")\n",
        "model.cuda()  # uncomment it if you have a GPU\n",
        "\n",
        "def embed_bert_cls(text, model, tokenizer):\n",
        "    t = tokenizer(text, padding=True, truncation=True, return_tensors='pt')\n",
        "    with torch.no_grad():\n",
        "        model_output = model(**{k: v.to(model.device) for k, v in t.items()})\n",
        "    embeddings = model_output.last_hidden_state[:, 0, :]\n",
        "    embeddings = torch.nn.functional.normalize(embeddings)\n",
        "    return embeddings[0].cpu().numpy()\n",
        "\n",
        "print(embed_bert_cls(\"I'd like some tea, if you have any\", model, tokenizer).shape)\n",
        "# (312,)\n"
      ],
      "metadata": {
        "id": "cNzEXWkX5Ufg"
      },
      "execution_count": null,
      "outputs": []
    },
    {
      "cell_type": "code",
      "source": [
        "pip install -U sentence-transformers"
      ],
      "metadata": {
        "id": "sKbPcRz_5pLG"
      },
      "execution_count": null,
      "outputs": []
    },
    {
      "cell_type": "code",
      "source": [
        "from sentence_transformers import SentenceTransformer\n",
        "model = SentenceTransformer('cointegrated/rubert-tiny2')\n",
        "sentences = [\"Rajat Yadav\", \"hello world\", \"Hello Rajat Yadav How are you\",\"Machine learning (ML) is a field of study in artificial intelligence concerned with the development and\"]\n",
        "embeddings = model.encode(sentences)\n",
        "print(embeddings)\n"
      ],
      "metadata": {
        "id": "p5PWOAR_6a1J"
      },
      "execution_count": null,
      "outputs": []
    },
    {
      "cell_type": "code",
      "source": [
        "import pandas as pd"
      ],
      "metadata": {
        "id": "6G6h4sk2-Ovu"
      },
      "execution_count": null,
      "outputs": []
    },
    {
      "cell_type": "code",
      "source": [
        "# Importing Pandas to create DataFrame\n",
        "import pandas as pd\n",
        "df = pd.DataFrame(embeddings, index = ['First','Second','Third','Fourth'])\n",
        "print(df)"
      ],
      "metadata": {
        "id": "zdSGh_YF-g3B"
      },
      "execution_count": null,
      "outputs": []
    },
    {
      "cell_type": "code",
      "source": [
        "df.to_csv(\"Vect_Data\")"
      ],
      "metadata": {
        "id": "7Nxc9HYG-x6Y"
      },
      "execution_count": null,
      "outputs": []
    },
    {
      "cell_type": "code",
      "source": [],
      "metadata": {
        "id": "Weu_CL6k_zdA"
      },
      "execution_count": null,
      "outputs": []
    }
  ]
}